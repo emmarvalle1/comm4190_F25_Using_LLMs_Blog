{
 "cells": [
  {
   "cell_type": "markdown",
   "id": "30e047d0-2c4b-4e64-ac71-ac54e4b32931",
   "metadata": {},
   "source": [
    "---\n",
    "title: Beginner Recipes\n",
    "description: Chat GPT Recipe Abilities \n",
    "author: \"Emma Valle\"\n",
    "date: \"10/16/2025\"\n",
    "categories:\n",
    "  - LLMs\n",
    "  - Learning\n",
    "---"
   ]
  },
  {
   "cell_type": "markdown",
   "id": "4fbcf47e-cb6e-455f-ba8d-9df75f751ea4",
   "metadata": {},
   "source": [
    "**Introduction**"
   ]
  },
  {
   "cell_type": "markdown",
   "id": "f06ef56e-1c63-49f5-9edc-efc0ad45ab68",
   "metadata": {},
   "source": [
    "I am recently learning how to cook but am having trouble coming up with recipes. I am curious by Chat GPT's ability to come up with more creative but easy recipes. "
   ]
  },
  {
   "cell_type": "markdown",
   "id": "a8589a7b-4953-4324-8887-0aba03f11533",
   "metadata": {},
   "source": [
    "**Prompt**"
   ]
  },
  {
   "cell_type": "markdown",
   "id": "80a875f9-78bc-41c6-b617-a1928be60e31",
   "metadata": {},
   "source": [
    "I am recently learning how to cook but have been making the same thing since I cannot think of new staple recipes: chicken and pasta. Can you help me come up with some good recipes that are staple dinner items not too complicated but not too simple?"
   ]
  },
  {
   "cell_type": "markdown",
   "id": "6d1398be-76d2-4a5d-a20a-24e0d9f9c4ef",
   "metadata": {},
   "source": [
    "**Response**"
   ]
  },
  {
   "cell_type": "markdown",
   "id": "ad229d30-91ef-4ca8-860a-a1c3a8725b6c",
   "metadata": {},
   "source": [
    "Got it — you want to build out a little rotation of staple dinners: not just chicken and pasta, but a handful of easy-to-repeat recipes that are flavorful, not intimidating, and versatile enough to become go-tos. I’ll break this down into categories with examples you can pick from.\n",
    "\n",
    "1. Proteins Beyond Chicken\n",
    "\n",
    "Salmon with Lemon & Dill (Sheet Pan Style)\n",
    "Season salmon with olive oil, lemon, salt, and dill. Roast on a sheet pan alongside asparagus or broccoli for 15 minutes.\n",
    "\n",
    "Beef Stir-Fry\n",
    "Thinly slice beef, sauté with garlic, ginger, soy sauce, and mixed veggies. Serve over rice or noodles.\n",
    "\n",
    "Turkey or Beef Chili\n",
    "Brown ground turkey or beef, add canned beans, tomatoes, chili powder, and simmer. Tastes better the next day too.\n",
    "\n",
    "2. Vegetarian Staples\n",
    "\n",
    "Shakshuka (Eggs in Tomato Sauce)\n",
    "Sauté onions, peppers, and garlic, add canned tomatoes + spices, simmer, then crack eggs into the sauce and cook until set.\n",
    "\n",
    "Lentil Soup\n",
    "Sauté onion, carrot, celery, add garlic, lentils, broth, and spices. Finish with lemon juice.\n",
    "\n",
    "Vegetable Curry\n",
    "Simmer chickpeas or lentils with coconut milk, curry paste/powder, and veggies. Serve with rice or naan.\n",
    "\n",
    "3. One-Pot or Sheet Pan Dinners\n",
    "\n",
    "Shrimp Fried Rice\n",
    "Use leftover rice, scramble in an egg, toss in shrimp, frozen peas, soy sauce, and sesame oil.\n",
    "\n",
    "Sausage & Veggie Sheet Pan Bake\n",
    "Slice chicken sausage, potatoes, and peppers, drizzle with olive oil and spices, and roast until golden.\n",
    "\n",
    "Risotto (Easy Style)\n",
    "Arborio rice cooked slowly with broth, onions, and parmesan. Can add mushrooms or shrimp for variety.\n",
    "\n",
    "4. Lighter Options\n",
    "\n",
    "Greek Bowls\n",
    "Base of rice or quinoa, topped with grilled chicken/lamb, cucumber, tomato, red onion, and tzatziki.\n",
    "\n",
    "Stuffed Sweet Potatoes\n",
    "Roast sweet potatoes, then stuff with black beans, avocado, and salsa (Tex-Mex style) or spinach & feta (Mediterranean).\n",
    "\n",
    "Salmon or Tuna Poke Bowl\n",
    "Rice, cubed raw (or seared) fish, soy-sesame dressing, avocado, and cucumber.\n",
    "\n",
    "5. “Upgrade Your Pasta”\n",
    "\n",
    "Since you’re already doing chicken + pasta, here are a few twists:\n",
    "\n",
    "Cacio e Pepe (buttery, peppery cheese pasta—3 ingredients, feels fancy).\n",
    "\n",
    "Bolognese (ground beef/turkey slow cooked with tomato and onion).\n",
    "\n",
    "Pasta Primavera (lots of sautéed seasonal veggies, olive oil, garlic, parmesan).\n",
    "\n",
    "👉 Here’s a tip: pick 5 recipes across these categories and put them on rotation for the next month. Once they feel easy, swap in new ones so you always have variety without needing to think too hard.\n",
    "\n",
    "Would you like me to make you a sample 1-week dinner plan with shopping list (based on these staples), so it’s plug-and-play?"
   ]
  },
  {
   "cell_type": "markdown",
   "id": "168bda61-c7ed-4ea5-b29c-3e619284c4b8",
   "metadata": {},
   "source": [
    "I then responded yes and requested the 1 "
   ]
  },
  {
   "cell_type": "markdown",
   "id": "0db14b8a-7ac7-45f2-8a2d-28c9062cd264",
   "metadata": {},
   "source": [
    "**Response 2**"
   ]
  },
  {
   "cell_type": "code",
   "execution_count": null,
   "id": "0ebe6814-b0d1-443e-b7d8-4febec308f5d",
   "metadata": {},
   "outputs": [],
   "source": []
  },
  {
   "cell_type": "markdown",
   "id": "230f94dd-a996-41ff-8ba0-8e7bb4303171",
   "metadata": {},
   "source": [
    "**Conclusion**"
   ]
  },
  {
   "cell_type": "markdown",
   "id": "d929933f-edca-48d6-8961-8d982b61bb6a",
   "metadata": {},
   "source": [
    "I think Chat GPT did a pretty good job of coming up with beginner recipes. "
   ]
  }
 ],
 "metadata": {
  "kernelspec": {
   "display_name": "Python 3-12 (COMM4190)",
   "language": "python",
   "name": "python3-12_comm4190"
  },
  "language_info": {
   "codemirror_mode": {
    "name": "ipython",
    "version": 3
   },
   "file_extension": ".py",
   "mimetype": "text/x-python",
   "name": "python",
   "nbconvert_exporter": "python",
   "pygments_lexer": "ipython3",
   "version": "3.12.11"
  }
 },
 "nbformat": 4,
 "nbformat_minor": 5
}
