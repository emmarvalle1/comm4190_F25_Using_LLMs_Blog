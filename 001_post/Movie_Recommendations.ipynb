{
 "cells": [
  {
   "cell_type": "raw",
   "id": "0e85d108-0a83-4051-ab92-6c85694b79e1",
   "metadata": {},
   "source": [
    "---\n",
    "title: \"Movie Recommendations\"\n",
    "description: \"Testing Blogging\" \n",
    "author: \"Emma\"\n",
    "date: \"2/1/2025\"\n",
    "categories:\n",
    "  - LLMs\n",
    "  - Learning\n",
    "---"
   ]
  },
  {
   "cell_type": "code",
   "execution_count": null,
   "id": "40af953c-f188-4ae2-a2fb-8d56c7f2e263",
   "metadata": {},
   "outputs": [],
   "source": []
  }
 ],
 "metadata": {
  "kernelspec": {
   "display_name": "Python 3-12 (COMM4190)",
   "language": "python",
   "name": "python3-12_comm4190"
  },
  "language_info": {
   "codemirror_mode": {
    "name": "ipython",
    "version": 3
   },
   "file_extension": ".py",
   "mimetype": "text/x-python",
   "name": "python",
   "nbconvert_exporter": "python",
   "pygments_lexer": "ipython3",
   "version": "3.12.11"
  }
 },
 "nbformat": 4,
 "nbformat_minor": 5
}
