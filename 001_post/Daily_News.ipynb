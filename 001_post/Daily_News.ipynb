{
 "cells": [
  {
   "cell_type": "raw",
   "id": "6594c518-b82a-4e84-954e-88d232cb2e3c",
   "metadata": {},
   "source": [
    "---\n",
    "title: \"Daily News\"\n",
    "description: \"Chat GPT Daily News Overview\" \n",
    "author: \"Emma\"\n",
    "date: \"10/12/2025\"\n",
    "categories:\n",
    "  - LLMs\n",
    "  - Learning\n",
    "---"
   ]
  },
  {
   "cell_type": "markdown",
   "id": "14949a31-475e-4cfd-87b5-9983096bc2f8",
   "metadata": {},
   "source": [
    "**Introduction**"
   ]
  },
  {
   "cell_type": "markdown",
   "id": "45af7c59-4d8f-4fd8-be32-4439f42767ec",
   "metadata": {},
   "source": [
    "I am trying to be better at being up to date with current world news, but sometimes I do not have time to check every app that I frequently check every morning or throughout the day. The news outlets I typically check and have downloaded on my phone are The New York Times, The Washington Post, The Wall Street Journal, BBC News and The Guardian. I also like to check the Middle Eastern sections of these sources (where applicable) to stay informed on the relevant dynamics and events occuring in the Middle East. I am going to tell Chat GPT this information and see if they can give me a good daily overview/summary to gather key points that I would have found in those news outlets."
   ]
  },
  {
   "cell_type": "markdown",
   "id": "ee92ca03-9b2b-4524-8097-a8a61416006f",
   "metadata": {},
   "source": [
    "**Prompt**"
   ]
  },
  {
   "cell_type": "markdown",
   "id": "a81e00c9-b1f4-4b7a-8cc0-7be2531df20d",
   "metadata": {},
   "source": [
    "I want you to give me a good overview of the daily news gathered from reputable news sources, and specifically based on the news outlets I usually check. My most frequently used are The New York Times, The Washington Post, The Wall Street Journal, BBC News and The Guardian. I also like to read and be informed on the Middle Eastern sections to see current news in Middle Eastern policy and politics. Please give me an up to date overview for my daily news intake"
   ]
  },
  {
   "cell_type": "markdown",
   "id": "1f6b70d8-5037-45ff-9aad-5cd43ec3adfd",
   "metadata": {},
   "source": [
    "**Response**"
   ]
  },
  {
   "cell_type": "markdown",
   "id": "ce1bd879-d8d2-4e33-92b9-a1bafa1d8a2b",
   "metadata": {},
   "source": [
    "Here’s a round-up of what’s happening now, especially in U.S./Western politics and the Middle East / regional policy. If you want, I can pull together full article summaries from NYT, WaPo, WSJ etc. too.\n",
    "\n",
    "Key U.S. / Western-Politics Stories\n",
    "\n",
    "Charlie Kirk Killing & Manhunt\n",
    "Conservative activist Charlie Kirk was shot and killed at a university event in Utah. Law enforcement is actively searching for a suspect. \n",
    "Al Jazeera\n",
    "+2\n",
    "The Independent\n",
    "+2\n",
    "\n",
    "Rubio to Visit Israel Amid Tensions\n",
    "Secretary of State Marco Rubio is set to travel to Israel shortly after an Israeli airstrike in Doha, Qatar, targeting Hamas leaders. The trip is meant to reinforce U.S. commitments to Israel’s security, discussions on hostages in Gaza, and address worries among U.S. allies about regional stability. \n",
    "Reuters\n",
    "+1\n",
    "\n",
    "U.S. Political Reactions to Israeli Airstrike in Qatar\n",
    "The airstrike has disturbed diplomacy. Critics in the U.S. argue it disrupted ceasefire negotiations, raised questions about American complicity or awareness, and stirred concern among Gulf states over U.S. reliability as an ally. \n",
    "The Washington Post\n",
    "+3\n",
    "The Washington Post\n",
    "+3\n",
    "The Washington Post\n",
    "+3\n",
    "\n",
    "Senators Accuse Israel of Ethnic Cleansing, U.S. Complicity\n",
    "A report by Democratic Senators — after visits to affected zones — claims that the destruction in Gaza, restrictions on humanitarian aid, and forced displacement amount to ethnic cleansing. They call on the U.S. to reconsider its military and political support. \n",
    "The Guardian\n",
    "\n",
    "Middle East / Regional Policy & Conflict\n",
    "\n",
    "Israeli Airstrike in Qatar\n",
    "Israel carried out an airstrike in Doha targeting Hamas leaders who were reportedly in discussions related to a proposed ceasefire and hostage exchange. The strike killed several people, including a Qatari security officer, and injured others. The event has caused diplomatic fallout, particularly between Qatar and Israel, and raised questions about sovereignty, mediation, and negotiation. \n",
    "The Washington Post\n",
    "+4\n",
    "Reuters\n",
    "+4\n",
    "The Washington Post\n",
    "+4\n",
    "\n",
    "Gulf States Question U.S. Protection / Regional Security\n",
    "Gulf nations are increasingly uneasy about the U.S. as a guarantor of their security. The Qatar strike, especially given U.S. military presence there, has heightened concerns that Israel may act without sufficient U.S. restraint or consultation, potentially destabilizing regional alliances. \n",
    "The Washington Post\n",
    "+1\n",
    "\n",
    "Humanitarian & Ceasefire Pressures\n",
    "There is growing pressure — domestic, regional, and international — for ceasefire negotiations in Gaza to resume. The strike in Qatar is seen by many as undermining those talks. Meanwhile, the humanitarian crisis in Gaza is worsening, with serious concerns about aid blockages. \n",
    "The Washington Post\n",
    "+2\n",
    "The Guardian\n",
    "+2\n",
    "\n",
    "Implications & What to Watch\n",
    "\n",
    "Diplomatic Fallout: The strike in Doha is likely to strain Israel’s relationship with Qatar and other Gulf states, which may feel their role as mediators is compromised. U.S. diplomacy will be tested: managing its alliances, public opinion, and responsibilities in the region.\n",
    "\n",
    "Negotiation Viability: If key actors believe that negotiation efforts can be undercut by military strikes, trust deteriorates. This might reduce incentives for Hamas or other groups to compromise—or for mediators to broker deals.\n",
    "\n",
    "U.S. Domestic Debate: The senators’ report and the concerns about U.S. foreign policy (whether in supporting Israel or in managing diplomatic fallout) signal possible shifts in how Congress and the public view the U.S.’s role in the Gaza conflict.\n",
    "\n",
    "Regional Security Realignments: Gulf states may reconsider their security strategies if they feel exposed. Potential outcomes include deeper regional cooperation independent of the U.S., or more hedging."
   ]
  },
  {
   "cell_type": "markdown",
   "id": "c3ecd5fd-6086-46c5-a599-97b45da66bc6",
   "metadata": {},
   "source": [
    "**Conclusion**"
   ]
  },
  {
   "cell_type": "markdown",
   "id": "56ce21f7-66b3-4ab1-9a11-5585c7b218b1",
   "metadata": {},
   "source": [
    "Based on my general knowledge of current news and a brief look through some of the outlets mentioned above, Chat GPT seems to have captured a lot of the main and most important events"
   ]
  }
 ],
 "metadata": {
  "kernelspec": {
   "display_name": "Python 3-12 (COMM4190)",
   "language": "python",
   "name": "python3-12_comm4190"
  },
  "language_info": {
   "codemirror_mode": {
    "name": "ipython",
    "version": 3
   },
   "file_extension": ".py",
   "mimetype": "text/x-python",
   "name": "python",
   "nbconvert_exporter": "python",
   "pygments_lexer": "ipython3",
   "version": "3.12.11"
  }
 },
 "nbformat": 4,
 "nbformat_minor": 5
}
