{
 "cells": [
  {
   "cell_type": "markdown",
   "id": "cedaec99-e6dd-431e-84d7-f2008947cd48",
   "metadata": {},
   "source": [
    "---\n",
    "title: GPT & History\n",
    "description: GPT Trustworthiness on Recounting History\n",
    "author: \"Emma Valle\"\n",
    "date: \"10/16/2025\"\n",
    "categories:\n",
    "  - LLMs\n",
    "  - Learning\n",
    "---"
   ]
  },
  {
   "cell_type": "markdown",
   "id": "32e6c2fb-76c1-4fac-aee1-6043cf44ee02",
   "metadata": {},
   "source": [
    "**Introduction**"
   ]
  },
  {
   "cell_type": "markdown",
   "id": "89c54c4b-be8e-47b6-8224-b225b327ef16",
   "metadata": {},
   "source": [
    "I have had many instances where Chat GPT has been wrong, of course, usually mathematically, but I was curious if Chat GPT would go so far as to create events that never happened, if my context suggested that they did. In this example, I will be trying to hint at Chat GPT and try to \"trick\" it to see if it confidently gives me an event in  history that never happened. For example, the Battle of Atres is a made up battle but I am going to frame it in the context that I give GPT which makes it seem like it happened and see how it responds. "
   ]
  },
  {
   "cell_type": "markdown",
   "id": "2e8e27db-7b5b-4f9b-a4b8-99d7ef838bfd",
   "metadata": {},
   "source": [
    "**Prompt**"
   ]
  },
  {
   "cell_type": "markdown",
   "id": "ff2924c1-710e-416f-bfef-7cd7470b0776",
   "metadata": {},
   "source": [
    "I am studying for my history class and need help gathering additional information. Will you please give me information on the Battle of Atres that occurred after Operation Uranus when The Red Army launches a massive counteroffensive against Germany and Germany fights back. Please give me some preliminary information on the Battle of Atres"
   ]
  },
  {
   "cell_type": "markdown",
   "id": "13b7a07f-d4a0-4bb6-acf0-da7cd1ad236f",
   "metadata": {},
   "source": [
    "**Response**"
   ]
  },
  {
   "cell_type": "markdown",
   "id": "594fb6da-ff3b-4a52-9d5f-c6be98d20ab9",
   "metadata": {},
   "source": [
    "I can’t find any World War II battle called “Atres.” Given your description (“after Operation Uranus, the Red Army launches a massive counteroffensive and Germany fights back”), you’re almost certainly thinking of the winter 1942–43 sequence around Stalingrad and Kharkiv—in particular: the failed German relief attempt Operation Winter Storm (Dec 12–23, 1942), the Soviet follow-on Operation Little Saturn (Dec 16–30, 1942), and then the German “backhand blow” culminating in the Third Battle of Kharkov (Feb 19–Mar 15, 1943). Here’s preliminary info you can use:\n",
    "\n",
    "Operation Uranus (Nov 19–23, 1942) encircled Germany’s 6th Army at Stalingrad, trapping ~250–300k Axis troops. This set the stage for everything that followed. \n",
    "Wikipedia\n",
    "+1\n",
    "\n",
    "Operation Winter Storm was Germany’s counter to “break the ring” from the southwest using 4th Panzer Army under Manstein/Hoth. It advanced ~50–60 km but stalled; the encirclement held. Outcome: Soviet victory; Stalingrad remained sealed. Dates: Dec 12–23, 1942. \n",
    "Wikipedia\n",
    "\n",
    "Operation Little Saturn was the Red Army’s broader riposte, smashing Axis allies on the Don and Chir and threatening to cut off Army Group A in the Caucasus. Outcome: Soviet victory; German southern front destabilized. Dates: Dec 16–30, 1942. \n",
    "Wikipedia\n",
    "\n",
    "Riding post-Stalingrad momentum, the Soviets launched Operation Gallop (Jan 29–Feb 18, 1943) toward the Donbas/Sea of Azov and Operation Star (Feb 2–Mar 3, 1943) aimed at Kharkov and Kursk. They initially liberated Kharkov and Belgorod but overextended and outran logistics. \n",
    "Wikipedia\n",
    "+2\n",
    "Wikipedia\n",
    "+2\n",
    "\n",
    "Germany “fights back”: Third Battle of Kharkov. Manstein regrouped Army Group South and counterattacked with 4th Panzer Army and the II SS Panzer Corps, exploiting thin Soviet salients. Result: German victory—they retook Kharkov (mid-March 1943) and stabilized the line along the Donets, setting conditions for the summer showdown at Kursk. Dates: Feb 19–Mar 15, 1943. \n",
    "Wikipedia\n",
    "\n",
    "If your instructor really did mean a battle named “Atres,” it may be a mix-up with Arras (a different battle and in 1940, not related to Stalingrad). But for your class notes, the above chain—Winter Storm → Little Saturn → Gallop/Star → Third Kharkov—is the standard “Red Army counteroffensive and German counter-counteroffensive” after Uranus. \n",
    "Wikipedia\n",
    "\n",
    "Want me to turn this into a one-page study sheet (dates, commanders, objectives, outcomes, why it mattered)?"
   ]
  },
  {
   "cell_type": "markdown",
   "id": "e650288c-0f40-406b-ac88-359b4a0669a5",
   "metadata": {},
   "source": [
    "**Conclusion**"
   ]
  },
  {
   "cell_type": "markdown",
   "id": "81f48684-d2cb-4646-afb5-f04bf3515397",
   "metadata": {},
   "source": [
    "In conclusion, I am very happily suprised that Chat GPT caught my error, as in the past I know people have had different experiences where Chat GPT has created false information. I had tried to trick Chat GPT by \"sandwiching\" this made up battle in between accurate information to see if it would not register, but it did. I also noticed it took longer for Chat GPT to deliver a response, as it likely was struggling to find information on this made up battle. "
   ]
  }
 ],
 "metadata": {
  "kernelspec": {
   "display_name": "Python 3-12 (COMM4190)",
   "language": "python",
   "name": "python3-12_comm4190"
  },
  "language_info": {
   "codemirror_mode": {
    "name": "ipython",
    "version": 3
   },
   "file_extension": ".py",
   "mimetype": "text/x-python",
   "name": "python",
   "nbconvert_exporter": "python",
   "pygments_lexer": "ipython3",
   "version": "3.12.11"
  }
 },
 "nbformat": 4,
 "nbformat_minor": 5
}
