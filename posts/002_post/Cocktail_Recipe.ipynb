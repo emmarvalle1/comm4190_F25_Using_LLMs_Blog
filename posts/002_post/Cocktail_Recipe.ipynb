{
 "cells": [
  {
   "cell_type": "raw",
   "id": "c1a66cda-85ca-45f9-b23d-6a6b5d441022",
   "metadata": {},
   "source": [
    "---\n",
    "title: \"Cocktail Recipe\"\n",
    "description: \"Can Chat GPT Come Up With a Unique Dinner Party Cocktaiil\" \n",
    "author: \"Emma\"\n",
    "date: \"10/11/2025\"\n",
    "categories:\n",
    "  - LLMs\n",
    "  - Learning\n",
    "---"
   ]
  },
  {
   "cell_type": "markdown",
   "id": "ab5048a9-d4cb-4508-b907-c0b1bb552599",
   "metadata": {},
   "source": [
    "**Introduction**"
   ]
  },
  {
   "cell_type": "markdown",
   "id": "a5835e06-1992-4625-9a0b-e53f1eb02e72",
   "metadata": {},
   "source": [
    "I am hosting a dinner party tonight and would like to see if Chat GPT can help me come up with a good cocktail that is unique and tasty to serve for a big group. "
   ]
  },
  {
   "cell_type": "markdown",
   "id": "aae17521-ee2b-4773-9c02-bcd0b1ab2580",
   "metadata": {},
   "source": [
    "**Prompt**"
   ]
  },
  {
   "cell_type": "markdown",
   "id": "58af15f7-6c09-4ccd-a5c1-61566d902818",
   "metadata": {},
   "source": [
    "I am hosting a dinner party tonight for around 20 people. It is a calm dinner with friends of mine and I want to think of a good cocktail that is universal enough to serve for a large group of people that most likely everyone will enjoy - not overwhelmingly sweet or bitter, but a classic cocktail. I do not want a standard cocktail like a margarita but something unique. Can you help me come up with something?"
   ]
  },
  {
   "cell_type": "markdown",
   "id": "f360cead-2f22-4789-8f0f-edb589184ef7",
   "metadata": {},
   "source": [
    "**Response**"
   ]
  },
  {
   "cell_type": "markdown",
   "id": "fe02f3ef-9ef6-44b3-862e-b4fe6b60e071",
   "metadata": {},
   "source": [
    "🥂 Option 1 — French 75 Punch\n",
    "\n",
    "Profile: Light, crisp, bubbly, citrusy — a celebratory crowd-pleaser\n",
    "Why it works: Universally appealing, refreshing, and festive without being sugary\n",
    "\n",
    "Ingredients (for ~20 servings):\n",
    "\n",
    "2 cups gin (London Dry like Tanqueray or Beefeater)\n",
    "\n",
    "1½ cups fresh lemon juice\n",
    "\n",
    "1½ cups simple syrup (1:1 sugar and water)\n",
    "\n",
    "2 bottles chilled dry sparkling wine (like brut Champagne or cava)\n",
    "\n",
    "Lemon wheels and sprigs of thyme for garnish\n",
    "\n",
    "Instructions:\n",
    "\n",
    "Chill all ingredients.\n",
    "\n",
    "In a punch bowl, mix gin, lemon juice, and simple syrup with ice.\n",
    "\n",
    "Just before serving, top with sparkling wine.\n",
    "\n",
    "Garnish with lemon wheels and thyme.\n",
    "\n",
    "Pro tip: Serve in coupe or flute glasses. Very elegant and easy to make ahead.\n",
    "\n",
    "🍊 Option 2 — White Negroni Spritz\n",
    "\n",
    "Profile: Bright, aromatic, slightly herbal — more interesting than a standard spritz\n",
    "Why it works: Sophisticated but not bitter like a classic Negroni\n",
    "\n",
    "Ingredients (for ~20 servings):\n",
    "\n",
    "2 cups gin\n",
    "\n",
    "2 cups Lillet Blanc (or Cocchi Americano)\n",
    "\n",
    "1½ cups Suze (gentian liqueur — lightly bitter)\n",
    "\n",
    "2 bottles prosecco or sparkling water (depending on strength preference)\n",
    "\n",
    "Orange slices for garnish\n",
    "\n",
    "Instructions:\n",
    "\n",
    "Mix gin, Lillet, and Suze with ice in a pitcher or punch bowl.\n",
    "\n",
    "Chill thoroughly.\n",
    "\n",
    "Just before serving, top with prosecco (for a boozy spritz) or sparkling water (for lower-ABV).\n",
    "\n",
    "Garnish with orange slices.\n",
    "\n",
    "Pro tip: This looks beautiful served over ice in large wine glasses.\n",
    "\n",
    "🍑 Option 3 — Peach Bourbon Smash (Lightened)\n",
    "\n",
    "Profile: Fruity yet balanced, slightly herbal — crowd-pleaser for whiskey skeptics\n",
    "Why it works: Approachable and unexpected; feels seasonal and cozy\n",
    "\n",
    "Ingredients (for ~20 servings):\n",
    "\n",
    "3 cups bourbon\n",
    "\n",
    "2 cups peach purée or nectar\n",
    "\n",
    "1 cup fresh lemon juice\n",
    "\n",
    "1 cup simple syrup\n",
    "\n",
    "Handful of fresh mint leaves\n",
    "\n",
    "Club soda (about 3–4 cups) to top\n",
    "\n",
    "Instructions:\n",
    "\n",
    "Muddle mint lightly in a punch bowl.\n",
    "\n",
    "Add bourbon, peach, lemon juice, and simple syrup.\n",
    "\n",
    "Stir with ice and chill.\n",
    "\n",
    "Top with soda just before serving.\n",
    "\n",
    "Garnish with mint sprigs and peach slices.\n",
    "\n",
    "Pro tip: If peach isn’t in season, frozen slices or high-quality nectar work great."
   ]
  },
  {
   "cell_type": "markdown",
   "id": "059c1742-c097-4ef6-9d65-fb22a424c7e7",
   "metadata": {},
   "source": [
    "**Conclusion**"
   ]
  },
  {
   "cell_type": "markdown",
   "id": "c9686f2c-bb9d-484a-a7d2-6535a42d0f90",
   "metadata": {},
   "source": [
    "I ended up making and trying each of these drinks with a few of my friends prior to the party, and ended up serving the French 75 and White Negroni spritz. These were well balanced drinks and great for a dinner party - and definitely much better than something I would have come up with! "
   ]
  },
  {
   "cell_type": "code",
   "execution_count": null,
   "id": "94eceb33-b928-452d-adcf-6916ee7e843a",
   "metadata": {},
   "outputs": [],
   "source": []
  }
 ],
 "metadata": {
  "kernelspec": {
   "display_name": "Python 3-12 (COMM4190)",
   "language": "python",
   "name": "python3-12_comm4190"
  },
  "language_info": {
   "codemirror_mode": {
    "name": "ipython",
    "version": 3
   },
   "file_extension": ".py",
   "mimetype": "text/x-python",
   "name": "python",
   "nbconvert_exporter": "python",
   "pygments_lexer": "ipython3",
   "version": "3.12.11"
  }
 },
 "nbformat": 4,
 "nbformat_minor": 5
}
