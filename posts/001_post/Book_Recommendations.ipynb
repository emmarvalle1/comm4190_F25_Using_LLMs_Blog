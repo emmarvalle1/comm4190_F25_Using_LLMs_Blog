{
 "cells": [
  {
   "cell_type": "raw",
   "id": "66813151-bbbc-4868-a720-ce0b0c58b6ec",
   "metadata": {},
   "source": [
    "---\n",
    "title: Testing Chat GPT Book Recommendations\n",
    "description: Can Chat GPT help me find a new good book to read?\n",
    "author: \"Emma Valle\"\n",
    "date: \"10/18/2025\"\n",
    "categories:\n",
    "  - LLMs\n",
    "  - Learning\n",
    "---"
   ]
  },
  {
   "cell_type": "markdown",
   "id": "d0107b93-9a56-47be-be28-3351d7709ebd",
   "metadata": {},
   "source": [
    "**Introduction**"
   ]
  },
  {
   "cell_type": "markdown",
   "id": "022365c3-fbea-4a6f-81f6-a32c5b0de5b4",
   "metadata": {},
   "source": [
    "I am trying to broaden the types of books I read as well as get back into reading. I have consistently stuck to the same author (Colleen Hoover) and want to find more books in that vein but a different author. "
   ]
  },
  {
   "cell_type": "markdown",
   "id": "cd595a36-505b-4908-93ba-98e0470a6fe4",
   "metadata": {},
   "source": [
    "**Prompt**"
   ]
  },
  {
   "cell_type": "markdown",
   "id": "9009b179-7684-433c-af62-6e22fb0c5e4e",
   "metadata": {},
   "source": [
    "I need help finding book recommendations. I have read a lot of Colleen Hoover books but want to switch to a different author. I want something that is a light fun read, not to say it is has to be happy and fun, but something that gets you hooked and is a great story line. Knowing that information can you give me some recommendations"
   ]
  },
  {
   "cell_type": "markdown",
   "id": "aacb39cb-14c6-4e0b-b166-9b97eb71ac35",
   "metadata": {},
   "source": [
    "**Response**"
   ]
  },
  {
   "cell_type": "markdown",
   "id": "629a7d1c-2b0f-4c02-96dc-fbe7abef66b8",
   "metadata": {},
   "source": [
    "Authors & Books to Try\n",
    "\n",
    "Emily Henry\n",
    "\n",
    "People We Meet on Vacation — sweet friends-to-lovers setup, great dialogue, heartfelt but still fun. \n",
    "Wikipedia\n",
    "\n",
    "If you like her style, Beach Read is another good one. (Rom-com but with emotional depth.)\n",
    "\n",
    "Talia Hibbert\n",
    "\n",
    "Get a Life, Chloe Brown — charming, warm, good banter, strong character growth. \n",
    "Wikipedia\n",
    "\n",
    "Josie Silver\n",
    "\n",
    "If you want something with emotional punch but also a comforting storyline, The Two Lives of Lydia Bird is often recommended. \n",
    "Never Enough Novels\n",
    "\n",
    "Ali Hazelwood\n",
    "\n",
    "If you like romance with humor and modern settings, her The Love Hypothesis has gotten lots of praise. \n",
    "Khristina Chess\n",
    "\n",
    "Ana Huang, Lucy Score, Meghan Quinn\n",
    "\n",
    "These are more spicy, more heat, but great storytelling that some CoHo fans love. \n",
    "Reddit\n",
    "+1\n",
    "\n",
    "Kathleen Center / Kristy Woodson Harvey\n",
    "\n",
    "For heartwarming, relation-focused stories with emotional arcs. These tend to be lighter but satisfying. \n",
    "Facebook\n",
    "+1\n",
    "\n",
    "If you want, I can pull up 3-5 specific book titles right now that match exactly the tone you want (lighter, romantic, maybe funny). Do you prefer more romance/comedy vs drama/heavy emotion?\n",
    "\n",
    "You said:\n",
    "I prefer more drama/heavy emotion\n",
    "ChatGPT said:\n",
    "\n",
    "If you want books with heavier emotional stakes — stories that tug on your heart, maybe make you think, maybe make you cry — here are several suggestions. Some are very close to the feel of Colleen Hoover-ish drama, others are a bit different but still powerful.\n",
    "\n",
    "📚 Book / Author Recommendations\n",
    "\n",
    "Me Before You by Jojo Moyes\n",
    "\n",
    "Louisa is hired to care for Will Traynor, who is paralyzed after an accident. Their relationship develops in unexpected ways. It deals with themes of loss, love, autonomy, and whether life is always worth living when everything changes. \n",
    "Medium\n",
    "+3\n",
    "The Guardian\n",
    "+3\n",
    "Wikipedia\n",
    "+3\n",
    "\n",
    "Taylor Jenkins Reid – her works tend to have rich characters, secrets, and emotional complexity. Some picks in particular:\n",
    "\n",
    "The Seven Husbands of Evelyn Hugo — a starlet’s life, multiple marriages, secrets, what you give up for fame and love. \n",
    "Beyond the Bookends\n",
    "+2\n",
    "She Reads\n",
    "+2\n",
    "\n",
    "One True Loves — torn between a past presumed dead and a new love; it’s about grief, identity, and choice. \n",
    "She Reads\n",
    "+1\n",
    "\n",
    "Forever, Interrupted — sudden tragedy early in a relationship and how the character copes. \n",
    "She Reads\n",
    "+1\n",
    "\n",
    "Helen Hoang\n",
    "\n",
    "The Heart Principle — it has heavier emotional content than just a romance, delves into personal trauma, expectations, how past wounds affect love. \n",
    "Wikipedia\n",
    "\n",
    "The Bride Test — also emotional; culture, family expectations, being vulnerable emotionally. \n",
    "Wikipedia\n",
    "\n",
    "Grief & Realism in Relationships\n",
    "\n",
    "Nothing Burns as Bright as You by Ashley Woodfolk — lots of complicated feelings, grief, messy relationships. \n",
    "Epic Reads\n",
    "\n",
    "Classic & Tearjerker Titles\n",
    "\n",
    "The Fault in Our Stars by John Green — you likely know this, but it hits hard. Illness, love, existential questions. \n",
    "TCK Publishing\n",
    "+1\n",
    "\n",
    "Nights in Rodanthe by Nicholas Sparks — love in difficult circumstances, sacrifice, emotional resonance. \n",
    "Wikipedia"
   ]
  },
  {
   "cell_type": "markdown",
   "id": "f1cae86a-336c-4bf3-a138-bc4880722e65",
   "metadata": {},
   "source": [
    "**Conclusion**"
   ]
  },
  {
   "cell_type": "markdown",
   "id": "cbbe71c4-acac-4b4e-a5d1-635c2d3457ec",
   "metadata": {},
   "source": [
    "I was extremely happy with this response and honestly cannot believe I didn't consult AI sooner! Most of these books I have not read but I looked them up and they seem totally up my alley! The first one suggested is the only one I have read and it is by my second favorite author, which makes me very hopeful about the rest of the suggestions. What I am going to do next is read these books and then give Chat GPT my reviews and specific thoughts to see how that will fine tune their suggestions and recommendations for me. "
   ]
  }
 ],
 "metadata": {
  "kernelspec": {
   "display_name": "Python 3-12 (COMM4190)",
   "language": "python",
   "name": "python3-12_comm4190"
  },
  "language_info": {
   "codemirror_mode": {
    "name": "ipython",
    "version": 3
   },
   "file_extension": ".py",
   "mimetype": "text/x-python",
   "name": "python",
   "nbconvert_exporter": "python",
   "pygments_lexer": "ipython3",
   "version": "3.12.11"
  }
 },
 "nbformat": 4,
 "nbformat_minor": 5
}
