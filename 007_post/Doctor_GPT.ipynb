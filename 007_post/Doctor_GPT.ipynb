{
 "cells": [
  {
   "cell_type": "code",
   "execution_count": null,
   "id": "647de5a7-6d20-4eff-804c-74c15f59be7c",
   "metadata": {},
   "outputs": [],
   "source": [
    "---\n",
    "title: \"How Well Can Chat GPT Ac as a Doctor?\"\n",
    "description: \"Asking GPT for treatment tips and a treatment plan for stomach bug\" \n",
    "author: \"Emma\"\n",
    "date: \"11/01/2025\"\n",
    "categories:\n",
    "  - LLMs\n",
    "  - Learning\n",
    "---"
   ]
  },
  {
   "cell_type": "markdown",
   "id": "a524aa45-b57d-47de-91ef-83888b6346f0",
   "metadata": {},
   "source": [
    "**Introduction**"
   ]
  },
  {
   "cell_type": "markdown",
   "id": "a2f89775-d447-4187-9b84-f9f6bcddedb4",
   "metadata": {},
   "source": [
    "As someone who worrries a bit about health but sometimes wants information on little sicknesses or mishaps here and there without needing to go to the doctor, I wanted to test chat GPT's abilities to help me recover from a stomach bug. I didn't just want a summary of to do and to not do's but an interactive experience where I could ask continuous quesetions building upon the knowledge I fed it. "
   ]
  },
  {
   "cell_type": "markdown",
   "id": "43eed93b-1014-41a7-91ad-6114c4adcc9d",
   "metadata": {},
   "source": [
    "**Prompt**"
   ]
  },
  {
   "cell_type": "markdown",
   "id": "b7f4e3e7-02cd-46e7-b018-94bd11a823c1",
   "metadata": {},
   "source": [
    "\"I have a bit of an upset stomach and believe I have a stomach bug. What medications should I take and avoid and what should I be eating? How many saltines can I eat\""
   ]
  },
  {
   "cell_type": "markdown",
   "id": "e486cfa1-488c-41d6-ab0e-8cac334e623c",
   "metadata": {},
   "source": [
    "Medications (over-the-counter)\n",
    "\n",
    "Bismuth subsalicylate (Pepto-Bismol, Kaopectate): Can help with both stomach upset and sometimes nausea.\n",
    "\n",
    "Oral rehydration solutions (like Pedialyte or electrolyte packets): Important if diarrhea is frequent, to avoid dehydration.\n",
    "\n",
    "What to Eat (the \"BRAT\" diet is commonly recommended)\n",
    "\n",
    "Bananas\n",
    "\n",
    "Rice (plain white rice)\n",
    "\n",
    "Applesauce\n",
    "\n",
    "Toast\n",
    "\n",
    "Other gentle foods: plain crackers (like saltines), oatmeal, boiled potatoes, or plain chicken. Avoid greasy, spicy, high-fat, or very sugary foods until you feel better.\n",
    "\n",
    "About Saltines\n",
    "\n",
    "Yes, you can eat saltines. A whole pack might be a bit much at once—sometimes too much starch/salt can make you feel more bloated or uncomfortable. It’s better to eat a few at a time throughout the day, with fluids, instead of all at once.\n",
    "\n",
    "Fluids\n",
    "\n",
    "Sip water, diluted juice, or electrolyte drinks slowly.\n",
    "\n",
    "Avoid alcohol, caffeine, and very sugary drinks (can worsen diarrhea).\n",
    "\n",
    "Do you want me to also give you a sample “what to eat today” plan that’s easy on your stomach?"
   ]
  },
  {
   "cell_type": "markdown",
   "id": "aab5e29f-7b7b-4893-a1d3-a612c731df66",
   "metadata": {},
   "source": [
    "🌅 Morning\n",
    "\n",
    "Breakfast:\n",
    "\n",
    "A slice or two of plain toast (dry or with just a little bit of jam or honey).\n",
    "\n",
    "A banana (easy to digest, provides potassium).\n",
    "\n",
    "Sip warm water or weak tea (like chamomile or peppermint).\n",
    "\n",
    "☀️ Midday\n",
    "\n",
    "Lunch:\n",
    "\n",
    "Plain white rice or oatmeal cooked with water.\n",
    "\n",
    "Optional: a little bit of plain applesauce.\n",
    "\n",
    "Drink water or electrolyte solution slowly.\n",
    "\n",
    "🌇 Afternoon Snack\n",
    "\n",
    "A few saltine crackers (not the whole pack at once, but you can spread them out through the day).\n",
    "\n",
    "Small sips of ginger ale (flat, without bubbles) or herbal tea if nausea is present.\n",
    "\n",
    "🌙 Evening\n",
    "\n",
    "Dinner:\n",
    "\n",
    "Boiled or baked skinless chicken (very small portion, plain).\n",
    "\n",
    "Boiled potatoes (no butter/cream, just plain).\n",
    "\n",
    "Steamed carrots or zucchini (soft and plain, if tolerated).\n",
    "\n",
    "Before Bed\n",
    "\n",
    "A few more crackers or toast if you feel hungry.\n",
    "\n",
    "Sip water or Pedialyte to stay hydrated overnight.\n",
    "\n",
    "⚠️ Avoid today: dairy (milk, cheese, ice cream), coffee, alcohol, spicy food, fried/greasy food, and raw vegetables.\n",
    "\n",
    "Would you like me to also make you a 2–3 day progression plan (how to move from “only bland” back to normal foods safely)?"
   ]
  },
  {
   "cell_type": "markdown",
   "id": "9f4f0813-776a-465e-a363-bd2fadd1d74f",
   "metadata": {},
   "source": [
    "Throughout the next few days I would return to this chat, asking follow up \"can I do this or that\" questions, and would make sure to consult Chat GPT before consuming anything new. For example, I asked if I could eat pasta, and inserted a picture of the certain pasta I wanted to eat including the ingrediants - and this was the response. "
   ]
  },
  {
   "cell_type": "markdown",
   "id": "d4e4f1a5-f773-4bab-ab06-177e59a16439",
   "metadata": {},
   "source": [
    "Great job checking the label — this Barilla Penne (blue box) is regular pasta made from semolina/durum wheat flour, not whole wheat. 👍\n",
    "\n",
    "You can see in the ingredients list:\n",
    "\n",
    "Semolina (wheat), durum wheat flour → this is refined white flour.\n",
    "\n",
    "If it were whole wheat, it would clearly say “whole wheat flour” and the pasta would look darker brown.\n",
    "\n",
    "So yes — this is the type that’s gentler on your stomach compared to whole wheat right now.\n",
    "\n",
    "👉 Just cook it plain, keep the portion small, and avoid heavy sauces. A little olive oil, or just eat it plain with some broth, would be easiest on your stomach.\n",
    "\n",
    "Would you like me to suggest a simple “stomach-friendly pasta recipe” you could make with this box?"
   ]
  },
  {
   "cell_type": "markdown",
   "id": "87f66050-f011-46a2-baab-edb11e5009e9",
   "metadata": {},
   "source": [
    "🌿 Stomach-Friendly Plain Pasta Recipe\n",
    "\n",
    "Ingredients\n",
    "\n",
    "1 cup Barilla penne pasta (uncooked)\n",
    "\n",
    "4 cups water\n",
    "\n",
    "½ teaspoon salt (optional, or just a pinch)\n",
    "\n",
    "1–2 teaspoons olive oil (optional, just for a little moisture)\n",
    "\n",
    "(Optional, if you’re ready for protein) a few bites of plain boiled chicken or soft scrambled egg\n",
    "\n",
    "Instructions\n",
    "\n",
    "Bring the water to a boil.\n",
    "\n",
    "Add the pasta (and salt if using). Cook until very soft (slightly longer than al dente — easier to digest).\n",
    "\n",
    "Drain and rinse lightly with warm water.\n",
    "\n",
    "Return to the pot and drizzle with a tiny bit of olive oil, or leave plain.\n",
    "\n",
    "Serve warm."
   ]
  },
  {
   "cell_type": "markdown",
   "id": "06f42153-eba2-42e1-9fb7-c73f1a41f59a",
   "metadata": {},
   "source": [
    "**Conclusion**"
   ]
  },
  {
   "cell_type": "markdown",
   "id": "03b0003a-6821-44ad-bb83-44ea254a5e1a",
   "metadata": {},
   "source": [
    "I followed steps, recipes, and instructions like these throughout the week, solely using Chat GPT's consultation to direct my actions, and definitely saw a result. Everything it advised me was correct and my stomach bug slowly subsided as I had Chat GPT help me reintroduce \"normal\" foods back into my diet. I find Chat GPT very helpful and an incredible resources for illnesses that aren't severe or remotely health threatening. Especially when I have constant small follow up questions that aren't necessary to consult with a doctor to ask, AI can be incredibly useful and I had a great experience, as I usually do when consulting GPT over health related issues."
   ]
  },
  {
   "cell_type": "code",
   "execution_count": null,
   "id": "da183c02-8c33-4a16-9c9a-f9683b74a239",
   "metadata": {},
   "outputs": [],
   "source": []
  }
 ],
 "metadata": {
  "kernelspec": {
   "display_name": "Python 3-12 (COMM4190)",
   "language": "python",
   "name": "python3-12_comm4190"
  },
  "language_info": {
   "codemirror_mode": {
    "name": "ipython",
    "version": 3
   },
   "file_extension": ".py",
   "mimetype": "text/x-python",
   "name": "python",
   "nbconvert_exporter": "python",
   "pygments_lexer": "ipython3",
   "version": "3.12.11"
  }
 },
 "nbformat": 4,
 "nbformat_minor": 5
}
