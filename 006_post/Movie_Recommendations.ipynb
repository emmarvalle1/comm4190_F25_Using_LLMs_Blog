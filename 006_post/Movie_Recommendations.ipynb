{
 "cells": [
  {
   "cell_type": "raw",
   "id": "0e85d108-0a83-4051-ab92-6c85694b79e1",
   "metadata": {},
   "source": [
    "---\n",
    "title: \"Movie Recommendations\"\n",
    "description: \"How Chat GPT Can Cater Movie Recommentations\" \n",
    "author: \"Emma\"\n",
    "date: \"10/12/2025\"\n",
    "categories:\n",
    "  - LLMs\n",
    "  - Learning\n",
    "---"
   ]
  },
  {
   "cell_type": "markdown",
   "id": "8e633455-6717-493f-852b-ed507e57862c",
   "metadata": {},
   "source": [
    "**Introduction** "
   ]
  },
  {
   "cell_type": "markdown",
   "id": "5bd7698d-5a6b-490e-9bcd-93afd29f9b61",
   "metadata": {},
   "source": [
    "As someone who loves rewatching movies or finding movies similar to ones I have seen before and loved, I wanted to see how chat gpt could cater movie recommendations based on knowing my specific music taste and what movies I liked before and why. For example, I don't particularly love certain kinds of horror movies, but do enjoy psychological thrillers - like the movie Se7en but not unlike the movie Sinister. I will be using this example to see the movies Chat GPT gives me and why based on information. There are some movies I have seen and similarly liked and want to see if given this information they will be included in the suggested watch list I am asking for."
   ]
  },
  {
   "cell_type": "markdown",
   "id": "d035ebbf-e1f4-4691-8f6f-0de556ba7af5",
   "metadata": {},
   "source": [
    "**Prompt**"
   ]
  },
  {
   "cell_type": "markdown",
   "id": "f289b266-d3c8-4fb9-a94b-55900c02a62a",
   "metadata": {},
   "source": [
    "I am interested in finding new movies to watch. I only like some horror movies, specifically the ones that are more so psychological thrillers and not paranormal jump scare based movies. for example, I loved the movie Se7en but did not like the movie Sinister. Can you help me find more psychological thrillers / horror movies based on this information?"
   ]
  },
  {
   "cell_type": "markdown",
   "id": "64e22087-1e9a-4bfa-8903-6f8ecbc307b7",
   "metadata": {},
   "source": [
    "**Chat GPT Response**"
   ]
  },
  {
   "cell_type": "markdown",
   "id": "70d7a218-29a2-4034-b684-de1c2fecbbbc",
   "metadata": {},
   "source": [
    "Absolutely! Since you liked Se7en (a slow-burn psychological thriller with dark, grounded crime elements) and disliked Sinister (a paranormal jump-scare horror), it sounds like you prefer:\n",
    "\n",
    "Psychological tension over supernatural scares\n",
    "\n",
    "Realistic human villains over ghosts/demons\n",
    "\n",
    "Atmospheric dread and mind games over loud startles or gore\n",
    "\n",
    "Here’s a list of movies that align with those preferences:\n",
    "\n",
    "🧠 Psychological Thrillers (Dark, Suspenseful, Grounded)\n",
    "\n",
    "Zodiac (2007) — From the same director as Se7en. A slow, unsettling hunt for the Zodiac Killer with a creeping sense of obsession and paranoia.\n",
    "\n",
    "Prisoners (2013) — A tense, morally complex thriller about two missing girls and the desperate hunt to find them.\n",
    "\n",
    "Gone Girl (2014) — A sharp psychological mystery about a missing wife and the media circus that follows.\n",
    "\n",
    "Nightcrawler (2014) — An unsettling character study about a morally void crime journalist chasing shocking footage.\n",
    "\n",
    "The Girl with the Dragon Tattoo (2011) — A dark, stylish investigation of a decades-old murder with twisted family secrets.\n",
    "\n",
    "🪞 Psychological Horror (Mind Games, Disturbing, Not Paranormal)\n",
    "\n",
    "Black Swan (2010) — A descent into obsession and psychosis set in the world of ballet; deeply unsettling and surreal.\n",
    "\n",
    "The Babadook (2014) — Although it has a “monster,” it’s really a metaphor for grief and depression; psychological more than paranormal.\n",
    "\n",
    "The Others (2001) — Minimal jump scares, mostly eerie atmosphere and psychological tension.\n",
    "\n",
    "The Machinist (2004) — A haunting portrayal of insomnia and guilt driving a man to the edge of sanity.\n",
    "\n",
    "Jacob’s Ladder (1990) — Disorienting and disturbing exploration of trauma and reality distortion.\n",
    "\n",
    "🩸 Crime Thrillers with Psychological Depth\n",
    "\n",
    "Silence of the Lambs (1991) — A psychological cat-and-mouse between an FBI trainee and a brilliant but terrifying killer.\n",
    "\n",
    "No Country for Old Men (2007) — A tense and philosophical thriller about fate, morality, and a relentless killer.\n",
    "\n",
    "Mystic River (2003) — A dark, brooding drama about childhood trauma and its repercussions in adulthood."
   ]
  },
  {
   "cell_type": "markdown",
   "id": "4984a8d6-8c50-4fa2-b14a-2275f0cfa3f3",
   "metadata": {},
   "source": [
    "**Additional Prompt**"
   ]
  },
  {
   "cell_type": "markdown",
   "id": "d5993d51-41ee-4999-a1c0-82c87a9a826d",
   "metadata": {},
   "source": [
    "For more information, a movie I liked as much as Se7en was Shutter Island, please give me another list based on that additional information"
   ]
  },
  {
   "cell_type": "markdown",
   "id": "b5ecf06b-117f-465c-848a-ab36376aa320",
   "metadata": {},
   "source": [
    "**Chat GPT Response**"
   ]
  },
  {
   "cell_type": "markdown",
   "id": "7364c8a0-708c-47e0-b615-623f1c0f8ec9",
   "metadata": {},
   "source": [
    "Absolutely! Since you liked Se7en (a slow-burn psychological thriller with dark, grounded crime elements) and disliked Sinister (a paranormal jump-scare horror), it sounds like you prefer:\n",
    "\n",
    "Psychological tension over supernatural scares\n",
    "\n",
    "Realistic human villains over ghosts/demons\n",
    "\n",
    "Atmospheric dread and mind games over loud startles or gore\n",
    "\n",
    "Here’s a list of movies that align with those preferences:\n",
    "\n",
    "🧠 Psychological Thrillers (Dark, Suspenseful, Grounded)\n",
    "\n",
    "Zodiac (2007) — From the same director as Se7en. A slow, unsettling hunt for the Zodiac Killer with a creeping sense of obsession and paranoia.\n",
    "\n",
    "Prisoners (2013) — A tense, morally complex thriller about two missing girls and the desperate hunt to find them.\n",
    "\n",
    "Gone Girl (2014) — A sharp psychological mystery about a missing wife and the media circus that follows.\n",
    "\n",
    "Nightcrawler (2014) — An unsettling character study about a morally void crime journalist chasing shocking footage.\n",
    "\n",
    "The Girl with the Dragon Tattoo (2011) — A dark, stylish investigation of a decades-old murder with twisted family secrets.\n",
    "\n",
    "🪞 Psychological Horror (Mind Games, Disturbing, Not Paranormal)\n",
    "\n",
    "Black Swan (2010) — A descent into obsession and psychosis set in the world of ballet; deeply unsettling and surreal.\n",
    "\n",
    "The Babadook (2014) — Although it has a “monster,” it’s really a metaphor for grief and depression; psychological more than paranormal.\n",
    "\n",
    "The Others (2001) — Minimal jump scares, mostly eerie atmosphere and psychological tension.\n",
    "\n",
    "The Machinist (2004) — A haunting portrayal of insomnia and guilt driving a man to the edge of sanity.\n",
    "\n",
    "Jacob’s Ladder (1990) — Disorienting and disturbing exploration of trauma and reality distortion.\n",
    "\n",
    "🩸 Crime Thrillers with Psychological Depth\n",
    "\n",
    "Silence of the Lambs (1991) — A psychological cat-and-mouse between an FBI trainee and a brilliant but terrifying killer.\n",
    "\n",
    "No Country for Old Men (2007) — A tense and philosophical thriller about fate, morality, and a relentless killer.\n",
    "\n",
    "Mystic River (2003) — A dark, brooding drama about childhood trauma and its repercussions in adulthood.\n",
    "\n",
    "If you want, I can also make a short watchlist of lesser-known hidden gems in this same genre (movies you might not have heard of but are very much like Se7en in tone).\n",
    "\n",
    "Would you like me to do that next?\n",
    "\n",
    "You said:\n",
    "For more information, a movie I liked as much as Se7en was Shutter Island, please give me another list based on that additional information\n",
    "ChatGPT said:\n",
    "\n",
    "Perfect — that detail is super helpful.\n",
    "\n",
    "Since you loved Shutter Island and Se7en, it’s clear your taste leans toward:\n",
    "\n",
    "Psychological thrillers with mystery, twists, and unreliable perception\n",
    "\n",
    "Dark tone, emotional depth, and strong character arcs\n",
    "\n",
    "Grounded (realistic) settings rather than supernatural or jump-scare horror\n",
    "\n",
    "So instead of supernatural horror, you want mind-bending psychological thrillers — the kind that blur reality and drive characters toward obsession or madness.\n",
    "\n",
    "🧠 Reality-Bending Psychological Thrillers\n",
    "\n",
    "The Sixth Sense (1999) — A slow, emotional thriller about perception and grief, with a famous twist. (Less “scary” than Sinister; much more psychological.)\n",
    "\n",
    "The Prestige (2006) — Two rival magicians in a dark, twisting battle of obsession and deception. Brilliant and suspenseful.\n",
    "\n",
    "Fight Club (1999) — From the same director as Se7en; explores identity, madness, and self-destruction with a major twist.\n",
    "\n",
    "Memento (2000) — A disorienting thriller told in reverse about a man with short-term memory loss trying to solve a murder.\n",
    "\n",
    "Oldboy (2003) — A dark, gripping Korean thriller about vengeance, imprisonment, and shocking secrets.\n",
    "\n",
    "🕵️‍♀️ Dark Mystery / Detective Thrillers\n",
    "\n",
    "Gone Girl (2014) — A missing person case spirals into a psychological battle of manipulation and deceit.\n",
    "\n",
    "Zodiac (2007) — Slow-burning and obsessive; follows journalists and police chasing the elusive Zodiac Killer.\n",
    "\n",
    "Prisoners (2013) — A gripping and disturbing thriller about a desperate father hunting for his missing daughter.\n",
    "\n",
    "The Girl with the Dragon Tattoo (2011) — Dark, icy tone and a deeply layered murder mystery investigation.\n",
    "\n",
    "🪞 Psychological Descent into Madness\n",
    "\n",
    "Black Swan (2010) — A haunting portrait of obsession, perfectionism, and mental unraveling.\n",
    "\n",
    "The Machinist (2004) — Stark and unsettling; follows a man consumed by guilt and insomnia until he loses his grip on reality.\n",
    "\n",
    "Enemy (2013) — Surreal and disturbing, about a man who discovers an exact double of himself; very Shutter Island-like in tone."
   ]
  },
  {
   "cell_type": "markdown",
   "id": "4eef1507-e86e-441c-af1a-8d4a83fc4b02",
   "metadata": {},
   "source": [
    "**Conclusion**"
   ]
  },
  {
   "cell_type": "markdown",
   "id": "7c8e06b5-da25-47a6-82b1-38fa1fe70d37",
   "metadata": {},
   "source": [
    "After looking through the responses (and having seen many of the ones listed and liking them) so overall do feel like AI did a good job capturing the essence of what I liked about the certain films I listed. I have not watched all of them, so will be later watching the ones I have not seen yet and continue to review and return."
   ]
  },
  {
   "cell_type": "code",
   "execution_count": null,
   "id": "fea9dc31-e5e3-468f-a98f-f5518cb2076e",
   "metadata": {},
   "outputs": [],
   "source": []
  }
 ],
 "metadata": {
  "kernelspec": {
   "display_name": "Python 3-12 (COMM4190)",
   "language": "python",
   "name": "python3-12_comm4190"
  },
  "language_info": {
   "codemirror_mode": {
    "name": "ipython",
    "version": 3
   },
   "file_extension": ".py",
   "mimetype": "text/x-python",
   "name": "python",
   "nbconvert_exporter": "python",
   "pygments_lexer": "ipython3",
   "version": "3.12.11"
  }
 },
 "nbformat": 4,
 "nbformat_minor": 5
}
